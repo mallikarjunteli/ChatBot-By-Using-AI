{
  "nbformat": 4,
  "nbformat_minor": 0,
  "metadata": {
    "colab": {
      "provenance": [],
      "authorship_tag": "ABX9TyPy/pBLwSXkNi/hIQpBw/Xd",
      "include_colab_link": true
    },
    "kernelspec": {
      "name": "python3",
      "display_name": "Python 3"
    },
    "language_info": {
      "name": "python"
    }
  },
  "cells": [
    {
      "cell_type": "markdown",
      "metadata": {
        "id": "view-in-github",
        "colab_type": "text"
      },
      "source": [
        "<a href=\"https://colab.research.google.com/github/mallikarjunteli/ChatBot-By-Using-AI/blob/main/Chatbot_By_Using_AI.ipynb\" target=\"_parent\"><img src=\"https://colab.research.google.com/assets/colab-badge.svg\" alt=\"Open In Colab\"/></a>"
      ]
    },
    {
      "cell_type": "markdown",
      "source": [
        "# Importing Libraries"
      ],
      "metadata": {
        "id": "K2RxXEyAORBe"
      }
    },
    {
      "cell_type": "code",
      "source": [
        "import nltk\n",
        "from nltk.tokenize import word_tokenize\n",
        "from nltk.corpus import stopwords\n",
        "from nltk.stem import PorterStemmer\n",
        "from nltk import classify\n",
        "from nltk import NaiveBayesClassifier"
      ],
      "metadata": {
        "id": "XJlr5458Hqli"
      },
      "execution_count": null,
      "outputs": []
    },
    {
      "cell_type": "markdown",
      "source": [
        "# Sample Training Data"
      ],
      "metadata": {
        "id": "Uf-2bXpGILoD"
      }
    },
    {
      "cell_type": "code",
      "source": [
        "training_data = [\n",
        "    ('What is the weather like today?', 'weather'),\n",
        "    ('Tell me about your services.', 'faq'),\n",
        "    ('How are you?', 'chit-chat'),\n",
        "]"
      ],
      "metadata": {
        "id": "5hBzkcw0H8hj"
      },
      "execution_count": null,
      "outputs": []
    },
    {
      "cell_type": "markdown",
      "source": [
        "# preprocess The Training Data"
      ],
      "metadata": {
        "id": "jabnQK4nIqOI"
      }
    },
    {
      "cell_type": "code",
      "source": [
        "def preprocess_text(text):\n",
        "    tokens = word_tokenize(text)\n",
        "    stop_words = set(stopwords.words('english'))\n",
        "    tokens = [PorterStemmer().stem(word) for word in tokens if word.isalnum() and word.lower() not in stop_words]\n",
        "    return dict([(token, True) for token in tokens])"
      ],
      "metadata": {
        "id": "yhbrAKIcI0-q"
      },
      "execution_count": null,
      "outputs": []
    },
    {
      "cell_type": "markdown",
      "source": [
        "# Feature Extraction"
      ],
      "metadata": {
        "id": "19JShHroJFR6"
      }
    },
    {
      "cell_type": "code",
      "source": [
        "features = [(preprocess_text(text), intent) for (text, intent) in training_data]"
      ],
      "metadata": {
        "id": "RI05vp_AJIgq"
      },
      "execution_count": null,
      "outputs": []
    },
    {
      "cell_type": "markdown",
      "source": [
        "# Train the Naive Bayes classifier"
      ],
      "metadata": {
        "id": "AMEnxweFJOpE"
      }
    },
    {
      "cell_type": "code",
      "source": [
        "classifier = NaiveBayesClassifier.train(features)"
      ],
      "metadata": {
        "id": "u_HYRH2HJYF8"
      },
      "execution_count": null,
      "outputs": []
    },
    {
      "cell_type": "code",
      "source": [],
      "metadata": {
        "id": "pNuBWUA9KC2H"
      },
      "execution_count": null,
      "outputs": []
    },
    {
      "cell_type": "markdown",
      "source": [
        "# Simple function to classify user input"
      ],
      "metadata": {
        "id": "Kz-XEmsAJbJx"
      }
    },
    {
      "cell_type": "code",
      "source": [
        "def classify_intent(user_input):\n",
        "    preprocessed_input = preprocess_text(user_input)\n",
        "    return classifier.classify(preprocessed_input)"
      ],
      "metadata": {
        "id": "x_5pd8wAJeTY"
      },
      "execution_count": null,
      "outputs": []
    },
    {
      "cell_type": "markdown",
      "source": [
        "\n",
        "# Sample conversation loop"
      ],
      "metadata": {
        "id": "X4FQI-4OJhSN"
      }
    },
    {
      "cell_type": "code",
      "source": [
        "print(\"Chatbot: Hi! How can I help you today?\")\n",
        "while True:\n",
        "    user_input = input(\"You: \")\n",
        "    if user_input.lower() == 'exit':\n",
        "        print(\"Chatbot: Goodbye!\")\n",
        "        break\n",
        "    intent = classify_intent(user_input)\n",
        "    if intent == 'weather':\n",
        "        print(\"Chatbot: I'm sorry, I don't have weather information right now.\")\n",
        "    elif intent == 'faq':\n",
        "        print(\"Chatbot: Our services include...\")\n",
        "    elif intent == 'chit-chat':\n",
        "        print(\"Chatbot: I'm doing well, thank you! How about you?\")\n",
        "    else:\n",
        "        print(\"Chatbot: I'm not sure how to respond to that.\")"
      ],
      "metadata": {
        "colab": {
          "base_uri": "https://localhost:8080/"
        },
        "id": "QZ153btXJj1I",
        "outputId": "6c6482b3-7ebe-468e-a46f-034e357430ce"
      },
      "execution_count": null,
      "outputs": [
        {
          "output_type": "stream",
          "name": "stdout",
          "text": [
            "Chatbot: Hi! How can I help you today?\n"
          ]
        }
      ]
    }
  ]
}